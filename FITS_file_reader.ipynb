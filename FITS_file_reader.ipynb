{
 "cells": [
  {
   "cell_type": "code",
   "execution_count": 135,
   "metadata": {},
   "outputs": [],
   "source": [
    "from astropy.io import fits\n",
    "import numpy as np\n",
    "from scipy.stats import norm\n",
    "import matplotlib.pyplot as plt\n",
    "import astropy.units as u\n",
    "from astropy.cosmology import Planck13, z_at_value\n",
    "import urllib\n",
    "import healpy as hp"
   ]
  },
  {
   "cell_type": "code",
   "execution_count": 136,
   "metadata": {},
   "outputs": [],
   "source": [
    "import time\n",
    "start_time = time.time()"
   ]
  },
  {
   "cell_type": "code",
   "execution_count": 137,
   "metadata": {},
   "outputs": [
    {
     "name": "stdout",
     "output_type": "stream",
     "text": [
      "NSIDE = 512\n",
      "ORDERING = NESTED in fits file\n",
      "INDXSCHM = IMPLICIT\n",
      "Ordering converted to RING\n",
      "Ordering converted to RING\n",
      "Ordering converted to RING\n",
      "Ordering converted to RING\n",
      "NSIDE = 256\n",
      "ORDERING = NESTED in fits file\n",
      "INDXSCHM = IMPLICIT\n",
      "Ordering converted to RING\n"
     ]
    }
   ],
   "source": [
    "prob, distmu, distsigma, distnorm = hp.read_map('../bayestar.fits', field = [0,1,2,3])\n",
    "hpy = hp.read_map('../bayestar.fits.gz')"
   ]
  },
  {
   "cell_type": "code",
   "execution_count": 138,
   "metadata": {},
   "outputs": [
    {
     "data": {
      "image/png": "[encoded data removed]",
      "text/plain": [
       "<Figure size 612x388.8 with 2 Axes>"
      ]
     },
     "metadata": {
      "needs_background": "light"
     },
     "output_type": "display_data"
    }
   ],
   "source": [
    "hp.mollview(prob, rot=180)"
   ]
  },
  {
   "cell_type": "code",
   "execution_count": 139,
   "metadata": {},
   "outputs": [],
   "source": [
    "prob1 = list(prob)\n",
    "npix = len(prob)\n",
    "nside = hp.npix2nside(npix)"
   ]
  },
  {
   "cell_type": "code",
   "execution_count": 140,
   "metadata": {},
   "outputs": [
    {
     "data": {
      "text/plain": [
       "(146.19767441860463, -49.896983831974104)"
      ]
     },
     "execution_count": 140,
     "metadata": {},
     "output_type": "execute_result"
    }
   ],
   "source": [
    "ipix = prob1.index(np.amax(prob1))\n",
    "theta, phi = hp.pix2ang(nside, ipix)\n",
    "ra = np.rad2deg(phi)\n",
    "dec = np.rad2deg(0.5 * np.pi - theta)\n",
    "ra, dec"
   ]
  },
  {
   "cell_type": "code",
   "execution_count": 141,
   "metadata": {},
   "outputs": [],
   "source": [
    "r = np.linspace(0,7000,num=1000)"
   ]
  },
  {
   "cell_type": "code",
   "execution_count": 142,
   "metadata": {},
   "outputs": [],
   "source": [
    "def distance(rr, pixel):\n",
    "    return distnorm[pixel]/(np.sqrt(2*np.pi)*distsigma[pixel])*np.exp(-(rr-distmu[pixel])**2 \n",
    "                                                               /(2*distsigma[pixel])**2)*rr**2"
   ]
  },
  {
   "cell_type": "markdown",
   "metadata": {},
   "source": [
    "Find the most probable distance of each pixel and the ra and dec for that pixel"
   ]
  },
  {
   "cell_type": "code",
   "execution_count": 143,
   "metadata": {},
   "outputs": [],
   "source": [
    "most_probable_distance = []\n",
    "ra, dec, std = [], [], []\n",
    "probability = []\n",
    "\n",
    "for pix1 in range(int(len(prob1))):\n",
    "    dist = distance(r,pix1)\n",
    "    dist = list(dist)\n",
    "    inde = dist.index(np.amax(dist))\n",
    "    most_probable_distance.append(inde * 7) #in units of Mpc\n",
    "    theta, phi = hp.pix2ang(nside, pix1)\n",
    "    ra.append(np.rad2deg(phi))\n",
    "    dec.append(np.rad2deg(0.5 * np.pi - theta))\n",
    "    probability.append(prob1[pix1])"
   ]
  },
  {
   "cell_type": "markdown",
   "metadata": {},
   "source": [
    "Append all data needed for an sql to a list and sort it so highest probability is at the top"
   ]
  },
  {
   "cell_type": "code",
   "execution_count": 144,
   "metadata": {},
   "outputs": [],
   "source": [
    "import time\n",
    "#start_time = time.time()\n",
    "\n",
    "\n",
    "data, z, stdz  = [], [], []\n",
    "for i in range(int(len(probability))):\n",
    "    if dec[i] > -10:\n",
    "        data.append([probability[i] ,most_probable_distance[i],ra[i], dec[i], distsigma[i]])\n",
    "    \n",
    "data = sorted(data, key=lambda data: data[0]) #sort all data by the probability of the object\n",
    "# being found in the ra and dec defined by that pixel\n",
    "\n",
    "for i in range(100):\n",
    "    z.append(z_at_value(Planck13.luminosity_distance,data[i][1]*u.Mpc )) #calculate the redshift\n",
    "    stdz.append(z_at_value(Planck13.luminosity_distance,data[i][4]*u.Mpc ) )\n",
    "\n",
    "#print(\"--- %s seconds ---\" % (time.time() - start_time))"
   ]
  },
  {
   "cell_type": "markdown",
   "metadata": {},
   "source": [
    "Excludes data that is unobservable to us"
   ]
  },
  {
   "cell_type": "markdown",
   "metadata": {},
   "source": [
    "Form the sql"
   ]
  },
  {
   "cell_type": "code",
   "execution_count": 145,
   "metadata": {},
   "outputs": [],
   "source": [
    "sql=' SELECT TOP 100 G.objID, GN.distance, G.z, G.ra, G.dec FROM Galaxy as G JOIN dbo.fGetNearbyObjEq(' + str(data[44][2]) + ','+ str(data[44][3])+', 1) AS GN ON G.objID = GN.objID WHERE z >' + str(z[44]-stdz[44]) + ' and z <' + str(z[44]+stdz[44]) "
   ]
  },
  {
   "cell_type": "code",
   "execution_count": 146,
   "metadata": {},
   "outputs": [],
   "source": [
    "#params = urllib.parse.urlencode({'cmd': sql, 'format': 'fits'}) #open the connection and run the sql\n",
    "#urllib.request.urlretrieve(url+params, 'gt.fits'); #collect the data"
   ]
  },
  {
   "cell_type": "markdown",
   "metadata": {},
   "source": [
    "Print data from sql"
   ]
  },
  {
   "cell_type": "code",
   "execution_count": 147,
   "metadata": {},
   "outputs": [],
   "source": [
    "#hud = fits.open('gt.fits') # read the file the data was output to\n",
    "#print(hud[0].data)"
   ]
  },
  {
   "cell_type": "code",
   "execution_count": 155,
   "metadata": {},
   "outputs": [
    {
     "name": "stdout",
     "output_type": "stream",
     "text": [
      "--- 3780.048670768738 seconds ---\n"
     ]
    }
   ],
   "source": [
    "\n",
    "data_for_telescope = []\n",
    "for i in range(len(z)):\n",
    "    sql=    ' SELECT TOP 100 G.objID, GN.distance, G.z, G.ra, G.dec FROM Galaxy as G JOIN dbo.fGetNearbyObjEq(' + str(data[i][2]) + ','+ str(data[i][3])+', 1) AS GN ON G.objID = GN.objID WHERE z >' + str(z[i]-stdz[i]) \n",
    "    #performs sql for most probable sky locations\n",
    "    params = urllib.parse.urlencode({'cmd': sql, 'format': 'fits'}) #open the connection and run the sql\n",
    "    urllib.request.urlretrieve(url+params, 'gt1.fits'); #collect and save the data\n",
    "    hud = fits.open('gt1.fits') # read the file the data was output to\n",
    "    if len(hud) == 1:\n",
    "        continue\n",
    "    else:\n",
    "        galaxies = (np.array(hud[1].data))\n",
    "        for j in range(len(galaxies)):\n",
    "            theta = 0.5 * np.pi - np.deg2rad(galaxies[j][4])\n",
    "            phi = np.deg2rad(galaxies[j][3])\n",
    "            pix = hp.ang2pix(nside, theta, phi)\n",
    "            d = Planck13.luminosity_distance(galaxies[j][2])\n",
    "            prob_of_gal = distance((d.value)/1000, pix)\n",
    "            data_for_telescope.append([galaxies[j][0], galaxies[j][2], galaxies[j][3], galaxies[j][4]\n",
    "                                       , d.value, prob_of_gal])\n",
    "data_for_telescope = sorted(data_for_telescope, key=lambda data_for_telescope: data_for_telescope[5])\n",
    "\n",
    "print(\"--- %s seconds ---\" % (time.time() - start_time))"
   ]
  },
  {
   "cell_type": "markdown",
   "metadata": {},
   "source": [
    "## Need to do: \n",
    "#####   1) how to autorun \n",
    "#####   2) exclude unobservable data \n",
    "#####    3) how to autodownload data \n",
    "#####    4) how to pass data to telescope"
   ]
  },
  {
   "cell_type": "code",
   "execution_count": 156,
   "metadata": {},
   "outputs": [
    {
     "data": {
      "text/plain": [
       "1177"
      ]
     },
     "execution_count": 156,
     "metadata": {},
     "output_type": "execute_result"
    }
   ],
   "source": [
    "len(data_for_telescope)"
   ]
  },
  {
   "cell_type": "code",
   "execution_count": null,
   "metadata": {},
   "outputs": [],
   "source": []
  }
 ],
 "metadata": {
  "kernelspec": {
   "display_name": "Python 3",
   "language": "python",
   "name": "python3"
  },
  "language_info": {
   "codemirror_mode": {
    "name": "ipython",
    "version": 3
   },
   "file_extension": ".py",
   "mimetype": "text/x-python",
   "name": "python",
   "nbconvert_exporter": "python",
   "pygments_lexer": "ipython3",
   "version": "3.7.3"
  }
 },
 "nbformat": 4,
 "nbformat_minor": 2
}
